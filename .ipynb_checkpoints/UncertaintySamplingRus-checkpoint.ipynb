{
 "cells": [
  {
   "cell_type": "code",
   "execution_count": 1,
   "metadata": {
    "collapsed": true
   },
   "outputs": [],
   "source": [
    "import pandas as pd\n",
    "import numpy as np\n",
    "import time,datetime \n",
    "from sklearn.feature_extraction.text import TfidfVectorizer\n",
    "from sklearn import datasets, metrics, cross_validation\n",
    "from sklearn.linear_model import LogisticRegression\n",
    "from sklearn.cross_validation import train_test_split\n",
    "from scipy import stats"
   ]
  },
  {
   "cell_type": "code",
   "execution_count": 2,
   "metadata": {
    "collapsed": true
   },
   "outputs": [],
   "source": [
    "vectorizer = TfidfVectorizer()"
   ]
  },
  {
   "cell_type": "code",
   "execution_count": 3,
   "metadata": {
    "collapsed": false
   },
   "outputs": [],
   "source": [
    "# Train data\n",
    "data_train = pd.read_csv('tweet.csv', header=None)\n",
    "data_train.columns = ['Sentiment','Text']\n",
    "data_train = data_train.dropna()\n",
    "\n",
    "X = np.array(data_train['Text'])\n",
    "y = np.array(data_train['Sentiment'])\n",
    "\n",
    "X_train, X_test, y_train, y_test = train_test_split(X, y, test_size=0.7, random_state=42)\n",
    "\n",
    "train = vectorizer.fit_transform(X_train)\n",
    "test = vectorizer.transform(X_test)"
   ]
  },
  {
   "cell_type": "code",
   "execution_count": 4,
   "metadata": {
    "collapsed": false
   },
   "outputs": [
    {
     "data": {
      "text/plain": [
       "LogisticRegression(C=1.0, class_weight=None, dual=False, fit_intercept=True,\n",
       "          intercept_scaling=1, max_iter=100, multi_class='ovr', n_jobs=1,\n",
       "          penalty='l2', random_state=None, solver='liblinear', tol=0.0001,\n",
       "          verbose=0, warm_start=False)"
      ]
     },
     "execution_count": 4,
     "metadata": {},
     "output_type": "execute_result"
    }
   ],
   "source": [
    "lg = LogisticRegression(C=1.0, penalty='l2')\n",
    "lg.fit(train,y_train)"
   ]
  },
  {
   "cell_type": "code",
   "execution_count": 5,
   "metadata": {
    "collapsed": false
   },
   "outputs": [
    {
     "data": {
      "text/plain": [
       "0.72311100172286491"
      ]
     },
     "execution_count": 5,
     "metadata": {},
     "output_type": "execute_result"
    }
   ],
   "source": [
    "pred = lg.predict(test)\n",
    "metrics.accuracy_score(y_test,pred)"
   ]
  },
  {
   "cell_type": "code",
   "execution_count": 6,
   "metadata": {
    "collapsed": false
   },
   "outputs": [],
   "source": [
    "prob = lg.predict_proba(test)"
   ]
  },
  {
   "cell_type": "code",
   "execution_count": 7,
   "metadata": {
    "collapsed": false,
    "scrolled": true
   },
   "outputs": [
    {
     "data": {
      "text/plain": [
       "(array(['0', '1'], dtype=object), array([33328, 34581], dtype=int64))"
      ]
     },
     "execution_count": 7,
     "metadata": {},
     "output_type": "execute_result"
    }
   ],
   "source": [
    "np.unique(y_train, return_counts=True)"
   ]
  },
  {
   "cell_type": "code",
   "execution_count": 8,
   "metadata": {
    "collapsed": false,
    "scrolled": true
   },
   "outputs": [
    {
     "name": "stdout",
     "output_type": "stream",
     "text": [
      "((68909, 106770), ' ', (157457, 106770))\n",
      "('Iteration number', 1, 'Accuracy', 0.72506779628724027)\n",
      "((69909, 107919), ' ', (156457, 107919))\n",
      "('Iteration number', 2, 'Accuracy', 0.72658941434387725)\n",
      "((70909, 109043), ' ', (155457, 109043))\n",
      "('Iteration number', 3, 'Accuracy', 0.72854873051712044)\n",
      "((71909, 110201), ' ', (154457, 110201))\n",
      "('Iteration number', 4, 'Accuracy', 0.73017733090763126)\n",
      "((72909, 111363), ' ', (153457, 111363))\n",
      "('Iteration number', 5, 'Accuracy', 0.73212039854812749)\n",
      "((73909, 112601), ' ', (152457, 112601))\n",
      "('Iteration number', 6, 'Accuracy', 0.73366260650544091)\n",
      "((74909, 113718), ' ', (151457, 113718))\n",
      "('Iteration number', 7, 'Accuracy', 0.7352053718217052)\n",
      "((75909, 114816), ' ', (150457, 114816))\n",
      "('Iteration number', 8, 'Accuracy', 0.7369680373794506)\n",
      "((76909, 115942), ' ', (149457, 115942))\n",
      "('Iteration number', 9, 'Accuracy', 0.73861378189044335)\n",
      "((77909, 117060), ' ', (148457, 117060))\n",
      "('Iteration number', 10, 'Accuracy', 0.74038947304606717)\n",
      "((78909, 118160), ' ', (147457, 118160))\n",
      "('Iteration number', 11, 'Accuracy', 0.74229097296160917)\n",
      "((79909, 119247), ' ', (146457, 119247))\n",
      "('Iteration number', 12, 'Accuracy', 0.74366537618550155)\n",
      "((80909, 120342), ' ', (145457, 120342))\n",
      "('Iteration number', 13, 'Accuracy', 0.74550554459393503)\n",
      "((81909, 121470), ' ', (144457, 121470))\n",
      "('Iteration number', 14, 'Accuracy', 0.74741964736911326)\n"
     ]
    }
   ],
   "source": [
    "num=0\n",
    "Acc=[]\n",
    "Num=[]\n",
    "acc = 0.7\n",
    "while acc < 0.75:\n",
    "    num+=1\n",
    "    # Get uncertainty examples\n",
    "    pred_entropies = stats.distributions.entropy(prob.T)\n",
    "    index = uncertainty_index = np.argsort(pred_entropies)\n",
    "    # Append it to train DataSet/\n",
    "    X_train = np.hstack((X_train,X_test[index[-1000:]]))\n",
    "    y_train = np.hstack((y_train,y_test[index[-1000:]]))\n",
    "    X_test = np.delete(X_test,index[-1000:])\n",
    "    y_test = np.delete(y_test,index[-1000:])\n",
    "    \n",
    "    train = vectorizer.fit_transform(X_train)\n",
    "    test = vectorizer.transform(X_test)\n",
    "\n",
    "    lg.fit(train,y_train)\n",
    "    print(train.shape,' ',test.shape)\n",
    "    pred = lg.predict(test)\n",
    "    acc = metrics.accuracy_score(y_test,pred)\n",
    "    print('Iteration number',num,'Accuracy',acc)\n",
    "    Num.append(num)\n",
    "    Acc.append(acc)\n",
    "    prob = lg.predict_proba(test)\n",
    "    if num == 14: break"
   ]
  },
  {
   "cell_type": "code",
   "execution_count": 9,
   "metadata": {
    "collapsed": false
   },
   "outputs": [],
   "source": [
    "# Train data\n",
    "data_train = pd.read_csv('tweet.csv', header=None)\n",
    "data_train.columns = ['Sentiment','Text']\n",
    "data_train = data_train.dropna()\n",
    "\n",
    "X = np.array(data_train['Text'])\n",
    "y = np.array(data_train['Sentiment'])\n",
    "\n",
    "X_train, X_test, y_train, y_test = train_test_split(X, y, test_size=0.7, random_state=42)\n",
    "\n",
    "train = vectorizer.fit_transform(X_train)\n",
    "test = vectorizer.transform(X_test)"
   ]
  },
  {
   "cell_type": "code",
   "execution_count": 10,
   "metadata": {
    "collapsed": false
   },
   "outputs": [
    {
     "name": "stdout",
     "output_type": "stream",
     "text": [
      "((68909, 106762), ' ', (157457, 106762))\n",
      "('Iteration number', 1, 'Accuracy', 0.72351816686460435)\n",
      "((69909, 107766), ' ', (156457, 107766))\n",
      "('Iteration number', 2, 'Accuracy', 0.72404558440977396)\n",
      "((70909, 108815), ' ', (155457, 108815))\n",
      "('Iteration number', 3, 'Accuracy', 0.72443183645638343)\n",
      "((71909, 109915), ' ', (154457, 109915))\n",
      "('Iteration number', 4, 'Accuracy', 0.72493315291634564)\n",
      "((72909, 111001), ' ', (153457, 111001))\n",
      "('Iteration number', 5, 'Accuracy', 0.72536280521579333)\n",
      "((73909, 112092), ' ', (152457, 112092))\n",
      "('Iteration number', 6, 'Accuracy', 0.7254832510150403)\n",
      "((74909, 113127), ' ', (151457, 113127))\n",
      "('Iteration number', 7, 'Accuracy', 0.72586278613731947)\n",
      "((75909, 114142), ' ', (150457, 114142))\n",
      "('Iteration number', 8, 'Accuracy', 0.72598815608446265)\n",
      "((76909, 115172), ' ', (149457, 115172))\n",
      "('Iteration number', 9, 'Accuracy', 0.72618211258087606)\n",
      "((77909, 116177), ' ', (148457, 116177))\n",
      "('Iteration number', 10, 'Accuracy', 0.72647972140080963)\n",
      "((78909, 117188), ' ', (147457, 117188))\n",
      "('Iteration number', 11, 'Accuracy', 0.72655757271611388)\n",
      "((79909, 118292), ' ', (146457, 118292))\n",
      "('Iteration number', 12, 'Accuracy', 0.72700519606437386)\n",
      "((80909, 119279), ' ', (145457, 119279))\n",
      "('Iteration number', 13, 'Accuracy', 0.72686085922300059)\n",
      "((81909, 120275), ' ', (144457, 120275))\n",
      "('Iteration number', 14, 'Accuracy', 0.72792595720525832)\n"
     ]
    }
   ],
   "source": [
    "num=0\n",
    "Acc1=[]\n",
    "Num1=[]\n",
    "acc = 0.7\n",
    "while acc < 0.75:\n",
    "    num+=1\n",
    "#     # Get uncertainty examples\n",
    "#     pred_entropies = stats.distributions.entropy(prob.T)\n",
    "#     index = uncertainty_index = np.argsort(pred_entropies)\n",
    "    # Append it to train DataSet/\n",
    "    X_train = np.hstack((X_train,X_test[:1000]))\n",
    "    y_train = np.hstack((y_train,y_test[:1000]))\n",
    "    X_test = np.delete(X_test,np.s_[:1000])\n",
    "    y_test = np.delete(y_test,np.s_[:1000])\n",
    "    \n",
    "    train = vectorizer.fit_transform(X_train)\n",
    "    test = vectorizer.transform(X_test)\n",
    "\n",
    "    lg.fit(train,y_train)\n",
    "    print(train.shape,' ',test.shape)\n",
    "    pred = lg.predict(test)\n",
    "    acc = metrics.accuracy_score(y_test,pred)\n",
    "    print('Iteration number',num,'Accuracy',acc)\n",
    "    Num1.append(num)\n",
    "    Acc1.append(acc)\n",
    "#     prob = lg.predict_proba(test)\n",
    "    if num == 14: break"
   ]
  },
  {
   "cell_type": "code",
   "execution_count": 12,
   "metadata": {
    "collapsed": false
   },
   "outputs": [
    {
     "data": {
      "text/plain": [
       "<matplotlib.legend.Legend at 0xbcca518>"
      ]
     },
     "execution_count": 12,
     "metadata": {},
     "output_type": "execute_result"
    },
    {
     "data": {
      "image/png": "[encoded data removed]",
      "text/plain": [
       "<matplotlib.figure.Figure at 0xf22b7f0>"
      ]
     },
     "metadata": {},
     "output_type": "display_data"
    }
   ],
   "source": [
    "import matplotlib.pyplot as plt\n",
    "%matplotlib inline\n",
    "plt.figure()\n",
    "plt.plot(Acc, 'r', linewidth=1)\n",
    "plt.plot(Acc1, 'g', linewidth=1)\n",
    "plt.legend(['Active', 'Passive'])"
   ]
  },
  {
   "cell_type": "code",
   "execution_count": null,
   "metadata": {
    "collapsed": true
   },
   "outputs": [],
   "source": []
  }
 ],
 "metadata": {
  "kernelspec": {
   "display_name": "Python 2",
   "language": "python",
   "name": "python2"
  },
  "language_info": {
   "codemirror_mode": {
    "name": "ipython",
    "version": 2
   },
   "file_extension": ".py",
   "mimetype": "text/x-python",
   "name": "python",
   "nbconvert_exporter": "python",
   "pygments_lexer": "ipython2",
   "version": "2.7.11"
  }
 },
 "nbformat": 4,
 "nbformat_minor": 0
}
