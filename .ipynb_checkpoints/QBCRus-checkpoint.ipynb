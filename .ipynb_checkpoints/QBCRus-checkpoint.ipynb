{
 "cells": [
  {
   "cell_type": "code",
   "execution_count": 1,
   "metadata": {
    "collapsed": true
   },
   "outputs": [],
   "source": [
    "import pandas as pd\n",
    "import numpy as np\n",
    "import time,datetime \n",
    "from scipy import stats\n",
    "from sklearn.feature_extraction.text import TfidfVectorizer\n",
    "from sklearn import datasets, metrics, cross_validation\n",
    "from sklearn.linear_model import LogisticRegression\n",
    "from sklearn.naive_bayes import MultinomialNB\n",
    "from sklearn.svm import SVC\n",
    "from sklearn.cross_validation import train_test_split\n",
    "vectorizer = TfidfVectorizer()"
   ]
  },
  {
   "cell_type": "code",
   "execution_count": 2,
   "metadata": {
    "collapsed": false
   },
   "outputs": [],
   "source": [
    "# Train data\n",
    "data_train = pd.read_csv('data_test.csv', header=None)\n",
    "data_train.columns = ['Sentiment','Text']\n",
    "data_train = data_train.dropna()\n",
    "\n",
    "X = np.array(data_train['Text'])\n",
    "y = np.array(data_train['Sentiment'])\n",
    "\n",
    "X_train, X_test, y_train, y_test = train_test_split(X, y, test_size=0.7, random_state=42)\n",
    "\n",
    "train = vectorizer.fit_transform(X_train)\n",
    "test = vectorizer.transform(X_test)"
   ]
  },
  {
   "cell_type": "code",
   "execution_count": 3,
   "metadata": {
    "collapsed": false
   },
   "outputs": [],
   "source": [
    "classifier_factories = []\n",
    "classifier_factories.append(lambda: LogisticRegression(C=1.0, penalty='l2'))\n",
    "classifier_factories.append(lambda: MultinomialNB())\n",
    "classifier_factories.append(lambda: SVC(C = 1.0, kernel='linear', random_state=241, probability=True))"
   ]
  },
  {
   "cell_type": "code",
   "execution_count": 4,
   "metadata": {
    "collapsed": true
   },
   "outputs": [],
   "source": [
    "classifiers = [f().fit(train, y_train) for f in classifier_factories]"
   ]
  },
  {
   "cell_type": "code",
   "execution_count": 5,
   "metadata": {
    "collapsed": false
   },
   "outputs": [
    {
     "name": "stdout",
     "output_type": "stream",
     "text": [
      "0.645278334766\n"
     ]
    }
   ],
   "source": [
    "acc=[]\n",
    "pred = np.array([c.predict(test) for c in classifiers]).T\n",
    "for i in range(len(classifiers)):\n",
    "    acc.append(metrics.accuracy_score(y_test,pred[:,i]))\n",
    "print(np.mean(acc))\n",
    "pred = pred.astype(int)\n",
    "prob = np.array([c.predict_proba(test) for c in classifiers]).T"
   ]
  },
  {
   "cell_type": "code",
   "execution_count": 6,
   "metadata": {
    "collapsed": false,
    "scrolled": true
   },
   "outputs": [
    {
     "name": "stdout",
     "output_type": "stream",
     "text": [
      "Yeap!\n",
      "('Length___________', (1495, 6534), ' ', (3391L,))\n",
      "0.653101346702\n",
      "Yeap!\n",
      "('Length___________', (1595, 6880), ' ', (3291L,))\n",
      "0.655224835207\n",
      "Yeap!\n",
      "('Length___________', (1695, 7211), ' ', (3191L,))\n",
      "0.658133455025\n",
      "Yeap!\n",
      "('Length___________', (1795, 7529), ' ', (3091L,))\n",
      "0.661911317409\n",
      "Yeap!\n",
      "('Length___________', (1895, 7874), ' ', (2991L,))\n",
      "0.66419973263\n",
      "Yeap!\n",
      "('Length___________', (1995, 8232), ' ', (2891L,))\n",
      "0.666993762356\n",
      "Yeap!\n",
      "('Length___________', (2095, 8535), ' ', (2791L,))\n",
      "0.669591589177\n",
      "Yeap!\n",
      "('Length___________', (2195, 8870), ' ', (2691L,))\n",
      "0.672090460424\n",
      "Yeap!\n",
      "('Length___________', (2295, 9179), ' ', (2591L,))\n",
      "0.674618311119\n"
     ]
    }
   ],
   "source": [
    "num=0\n",
    "iter=0\n",
    "s=0\n",
    "mas = []\n",
    "acc=[]\n",
    "Acc=[]\n",
    "while s < 0.7:\n",
    "    if iter==9:break\n",
    "    for i in range(len(pred)):\n",
    "        x = (pred[i][0]==pred[i][1]).sum()+(pred[i][0]==pred[i][2])\n",
    "        if x<=1:\n",
    "            #print(' VE ',i)\n",
    "            X_train = np.hstack((X_train,X_test[i]))\n",
    "            y_train = np.hstack((y_train,y_test[i]))\n",
    "            mas.append(i)\n",
    "            num+=1\n",
    "        else:\n",
    "            k = stats.distributions.entropy((prob[0][i],prob[1][i]))\n",
    "            k = k.mean()\n",
    "            if k >= 0.68:\n",
    "                #print('KL-d ',i)\n",
    "                X_train = np.hstack((X_train,X_test[i]))\n",
    "                y_train = np.hstack((y_train,y_test[i]))\n",
    "                mas.append(i)\n",
    "                num+=1\n",
    "        \n",
    "        if num==100:\n",
    "            iter+=1\n",
    "            X_test = np.delete(X_test,mas)\n",
    "            y_test = np.delete(y_test,mas)\n",
    "            mas=[]\n",
    "            print('Yeap!')\n",
    "            print('Length___________',train.shape,' ',X_test.shape)\n",
    "            train = vectorizer.fit_transform(X_train)\n",
    "            test = vectorizer.transform(X_test)\n",
    "            \n",
    "            classifiers = [f().fit(train, y_train) for f in classifier_factories]\n",
    "            \n",
    "            \n",
    "            pred = np.array([c.predict(test) for c in classifiers]).T\n",
    "            for i in range(len(classifiers)):\n",
    "                acc.append(metrics.accuracy_score(y_test,pred[:,i]))\n",
    "            print(np.mean(acc))\n",
    "            Acc.append(np.mean(acc))\n",
    "            pred = pred.astype(int)\n",
    "            prob = np.array([c.predict_proba(test) for c in classifiers]).T\n",
    "            num=0\n",
    "            break"
   ]
  },
  {
   "cell_type": "code",
   "execution_count": 7,
   "metadata": {
    "collapsed": false
   },
   "outputs": [],
   "source": [
    "# Train data\n",
    "data_train = pd.read_csv('data_test.csv', header=None)\n",
    "data_train.columns = ['Sentiment','Text']\n",
    "data_train = data_train.dropna()\n",
    "\n",
    "X = np.array(data_train['Text'])\n",
    "y = np.array(data_train['Sentiment'])\n",
    "\n",
    "X_train, X_test, y_train, y_test = train_test_split(X, y, test_size=0.7, random_state=42)\n",
    "\n",
    "train = vectorizer.fit_transform(X_train)\n",
    "test = vectorizer.transform(X_test)"
   ]
  },
  {
   "cell_type": "code",
   "execution_count": 8,
   "metadata": {
    "collapsed": false,
    "scrolled": true
   },
   "outputs": [
    {
     "name": "stdout",
     "output_type": "stream",
     "text": [
      "0.645139093679\n",
      "0.649420554639\n",
      "0.650956020026\n",
      "0.652592082419\n",
      "0.653735317557\n",
      "0.654218687226\n",
      "0.655178011104\n",
      "0.655623135537\n",
      "0.656264120249\n"
     ]
    }
   ],
   "source": [
    "num=0\n",
    "iter=0\n",
    "s=0\n",
    "mas = []\n",
    "acc=[]\n",
    "Acc1=[]\n",
    "while s < 0.7:\n",
    "    iter+=1\n",
    "    X_train = np.hstack((X_train,X_test[:100]))\n",
    "    y_train = np.hstack((y_train,y_test[:100]))\n",
    "    X_test = np.delete(X_test,np.s_[:100])\n",
    "    y_test = np.delete(y_test,np.s_[:100])\n",
    "    train = vectorizer.fit_transform(X_train)\n",
    "    test = vectorizer.transform(X_test)\n",
    "            \n",
    "    classifiers = [f().fit(train, y_train) for f in classifier_factories]\n",
    "            \n",
    "            \n",
    "    pred = np.array([c.predict(test) for c in classifiers]).T\n",
    "    for i in range(len(classifiers)):\n",
    "        acc.append(metrics.accuracy_score(y_test,pred[:,i]))\n",
    "    print(np.mean(acc))\n",
    "    Acc1.append(np.mean(acc))\n",
    "    pred = pred.astype(int)\n",
    "    prob = np.array([c.predict_proba(test) for c in classifiers]).T\n",
    "    if iter==9:break"
   ]
  },
  {
   "cell_type": "code",
   "execution_count": 9,
   "metadata": {
    "collapsed": false
   },
   "outputs": [
    {
     "data": {
      "text/plain": [
       "<matplotlib.legend.Legend at 0xb25c278>"
      ]
     },
     "execution_count": 9,
     "metadata": {},
     "output_type": "execute_result"
    },
    {
     "data": {
      "image/png": "[encoded data removed]",
      "text/plain": [
       "<matplotlib.figure.Figure at 0xbaf80b8>"
      ]
     },
     "metadata": {},
     "output_type": "display_data"
    }
   ],
   "source": [
    "import matplotlib.pyplot as plt\n",
    "%matplotlib inline\n",
    "plt.figure()\n",
    "plt.plot(Acc, 'r', linewidth=1)\n",
    "plt.plot(Acc1, 'g', linewidth=1)\n",
    "plt.legend(['Active', 'Passive'])"
   ]
  }
 ],
 "metadata": {
  "kernelspec": {
   "display_name": "Python 2",
   "language": "python",
   "name": "python2"
  },
  "language_info": {
   "codemirror_mode": {
    "name": "ipython",
    "version": 2
   },
   "file_extension": ".py",
   "mimetype": "text/x-python",
   "name": "python",
   "nbconvert_exporter": "python",
   "pygments_lexer": "ipython2",
   "version": "2.7.11"
  }
 },
 "nbformat": 4,
 "nbformat_minor": 0
}
