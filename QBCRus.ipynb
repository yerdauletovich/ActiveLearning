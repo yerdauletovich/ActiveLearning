{
 "cells": [
  {
   "cell_type": "code",
   "execution_count": 11,
   "metadata": {
    "collapsed": true
   },
   "outputs": [],
   "source": [
    "import pandas as pd\n",
    "import numpy as np\n",
    "import time,datetime \n",
    "from scipy import stats\n",
    "from sklearn.feature_extraction.text import TfidfVectorizer\n",
    "from sklearn import datasets, metrics, cross_validation\n",
    "from sklearn.linear_model import LogisticRegression\n",
    "from sklearn.naive_bayes import MultinomialNB\n",
    "from sklearn.svm import SVC\n",
    "from sklearn.cross_validation import train_test_split\n",
    "vectorizer = TfidfVectorizer()"
   ]
  },
  {
   "cell_type": "code",
   "execution_count": 17,
   "metadata": {
    "collapsed": false
   },
   "outputs": [],
   "source": [
    "# Train data\n",
    "data_train = pd.read_csv('data_test.csv', header=None)\n",
    "data_train.columns = ['Sentiment','Text']\n",
    "data_train = data_train.dropna()\n",
    "\n",
    "X = np.array(data_train['Text'])\n",
    "y = np.array(data_train['Sentiment'])\n",
    "\n",
    "X_train, X_test, y_train, y_test = train_test_split(X, y, test_size=0.7, random_state=42)\n",
    "\n",
    "train = vectorizer.fit_transform(X_train)\n",
    "test = vectorizer.transform(X_test)"
   ]
  },
  {
   "cell_type": "code",
   "execution_count": 18,
   "metadata": {
    "collapsed": false
   },
   "outputs": [],
   "source": [
    "classifier_factories = []\n",
    "classifier_factories.append(lambda: LogisticRegression(C=1.0, penalty='l2'))\n",
    "classifier_factories.append(lambda: MultinomialNB())\n",
    "classifier_factories.append(lambda: SVC(C = 1.0, kernel='linear', random_state=241, probability=True))"
   ]
  },
  {
   "cell_type": "code",
   "execution_count": 19,
   "metadata": {
    "collapsed": true
   },
   "outputs": [],
   "source": [
    "classifiers = [f().fit(train, y_train) for f in classifier_factories]"
   ]
  },
  {
   "cell_type": "code",
   "execution_count": 20,
   "metadata": {
    "collapsed": false
   },
   "outputs": [
    {
     "name": "stdout",
     "output_type": "stream",
     "text": [
      "0   0.650243483243\n",
      "1   0.637639644801\n",
      "2   0.647951876253\n"
     ]
    }
   ],
   "source": [
    "pred = np.array([c.predict(test) for c in classifiers]).T\n",
    "for i in range(len(classifiers)):\n",
    "    acc = metrics.accuracy_score(y_test,pred[:,i])\n",
    "    print(i,' ',acc)\n",
    "pred = pred.astype(int)\n",
    "prob = np.array([c.predict_proba(test) for c in classifiers]).T"
   ]
  },
  {
   "cell_type": "code",
   "execution_count": 21,
   "metadata": {
    "collapsed": false,
    "scrolled": true
   },
   "outputs": [
    {
     "name": "stdout",
     "output_type": "stream",
     "text": [
      "Yeap!\n",
      "Length___________ (1495, 6534)   (3391,)\n",
      "0   0.659687407844\n",
      "1   0.644057800059\n",
      "2   0.655558832203\n",
      "Yeap!\n",
      "Length___________ (1595, 6880)   (3291,)\n",
      "0   0.662412640535\n",
      "1   0.652689152233\n",
      "2   0.656943178365\n",
      "Yeap!\n",
      "Length___________ (1695, 7211)   (3191,)\n",
      "0   0.668129113131\n",
      "1   0.661861485428\n",
      "2   0.661861485428\n",
      "Yeap!\n",
      "Length___________ (1795, 7529)   (3091,)\n",
      "0   0.674862504044\n",
      "1   0.6696861857\n",
      "2   0.67518602394\n",
      "Yeap!\n",
      "Length___________ (1895, 7874)   (2991,)\n",
      "0   0.676696756937\n",
      "1   0.665329321297\n",
      "2   0.678034102307\n",
      "Yeap!\n",
      "Length___________ (1995, 8232)   (2891,)\n",
      "0   0.682808716707\n",
      "1   0.681079211346\n",
      "2   0.679003804912\n",
      "Yeap!\n",
      "Length___________ (2095, 8535)   (2791,)\n",
      "0   0.684342529559\n",
      "1   0.683984235041\n",
      "2   0.687208885704\n",
      "Yeap!\n",
      "Length___________ (2195, 8870)   (2691,)\n",
      "0   0.690821256039\n",
      "1   0.688591601635\n",
      "2   0.68933481977\n",
      "Yeap!\n",
      "Length___________ (2295, 9179)   (2591,)\n",
      "0   0.69664222308\n",
      "1   0.695098417599\n",
      "2   0.692782709379\n",
      "Yeap!\n",
      "Length___________ (2395, 9516)   (2491,)\n",
      "0   0.697310317142\n",
      "1   0.704536330791\n",
      "2   0.702127659574\n"
     ]
    }
   ],
   "source": [
    "num=0\n",
    "mas = []\n",
    "while acc < 0.7:\n",
    "    for i in range(len(pred)):\n",
    "        x = (pred[i][0]==pred[i][1]).sum()+(pred[i][0]==pred[i][2])\n",
    "        if x<=1:\n",
    "            #print(' VE ',i)\n",
    "            X_train = np.hstack((X_train,X_test[i]))\n",
    "            y_train = np.hstack((y_train,y_test[i]))\n",
    "            mas.append(i)\n",
    "            num+=1\n",
    "        else:\n",
    "            k = stats.distributions.entropy((prob[0][i],prob[1][i]))\n",
    "            k = k.mean()\n",
    "            if k >= 0.68:\n",
    "                #print('KL-d ',i)\n",
    "                X_train = np.hstack((X_train,X_test[i]))\n",
    "                y_train = np.hstack((y_train,y_test[i]))\n",
    "                mas.append(i)\n",
    "                num+=1\n",
    "        if num==100:\n",
    "            X_test = np.delete(X_test,mas)\n",
    "            y_test = np.delete(y_test,mas)\n",
    "            mas=[]\n",
    "            print('Yeap!')\n",
    "            print('Length___________',train.shape,' ',X_test.shape)\n",
    "            train = vectorizer.fit_transform(X_train)\n",
    "            test = vectorizer.transform(X_test)\n",
    "            \n",
    "            classifiers = [f().fit(train, y_train) for f in classifier_factories]\n",
    "            \n",
    "            \n",
    "            pred = np.array([c.predict(test) for c in classifiers]).T\n",
    "            for i in range(len(classifiers)):\n",
    "                acc = metrics.accuracy_score(y_test,pred[:,i])\n",
    "                print(i,' ',acc)\n",
    "            pred = pred.astype(int)\n",
    "            prob = np.array([c.predict_proba(test) for c in classifiers]).T\n",
    "            num=0\n",
    "            break"
   ]
  },
  {
   "cell_type": "code",
   "execution_count": null,
   "metadata": {
    "collapsed": true
   },
   "outputs": [],
   "source": []
  }
 ],
 "metadata": {
  "kernelspec": {
   "display_name": "Python 2",
   "language": "python",
   "name": "python2"
  },
  "language_info": {
   "codemirror_mode": {
    "name": "ipython",
    "version": 2
   },
   "file_extension": ".py",
   "mimetype": "text/x-python",
   "name": "python",
   "nbconvert_exporter": "python",
   "pygments_lexer": "ipython2",
   "version": "2.7.11"
  }
 },
 "nbformat": 4,
 "nbformat_minor": 0
}
